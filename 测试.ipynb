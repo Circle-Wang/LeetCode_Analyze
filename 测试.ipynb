{
 "cells": [
  {
   "cell_type": "markdown",
   "metadata": {},
   "source": [
    "### 读取单行"
   ]
  },
  {
   "cell_type": "code",
   "execution_count": null,
   "metadata": {},
   "outputs": [],
   "source": [
    "while True :\n",
    "    try:\n",
    "        a, b = map(int, input().strip().split())\n",
    "        print(a+b)\n",
    "    except:\n",
    "        break\n",
    "\n",
    "import sys \n",
    "for line in sys.stdin:\n",
    "    a = line.split()\n",
    "    print(int(a[0]) + int(a[1]))"
   ]
  },
  {
   "cell_type": "markdown",
   "metadata": {},
   "source": [
    "### 读取多行"
   ]
  },
  {
   "cell_type": "code",
   "execution_count": null,
   "metadata": {},
   "outputs": [],
   "source": [
    "n = int(input())\n",
    "for i in range(n):\n",
    "    a, b = map(int, input().strip().split())\n",
    "    print(a,b)"
   ]
  },
  {
   "cell_type": "markdown",
   "metadata": {},
   "source": [
    "### 组合数与排列\n",
    "- itertools.permutations(iterable, r=None): 生成排列情况\n",
    "- itertools.combinations(iterable, r=None): 生成组合情况\n",
    "- math.comb(5, 2): 计算组合数C(5, 2)\n",
    "- math.perm(5, 2): 计算排列数P(5, 2)"
   ]
  },
  {
   "cell_type": "code",
   "execution_count": null,
   "metadata": {},
   "outputs": [],
   "source": [
    "import math\n",
    "# 定义n和m\n",
    "n = 3\n",
    "m = 2\n",
    "# 计算排列数 A_n^m\n",
    "A_n_m = math.factorial(n) / math.factorial(n - m)\n",
    "\n",
    "def pai_lie(a,b):\n",
    "    result = 1\n",
    "    for i in range(b):\n",
    "        result *= (a-i)\n",
    "    # 可以使用 阶乘\n",
    "    # result = math.factorial(n) / math.factorial(n - m)\n",
    "    return result\n",
    "\n",
    "def zu_he(a,b):\n",
    "    return int(pai_lie(a,b)/pai_lie(b,b))\n",
    "\n",
    "zu_he(4,2)\n"
   ]
  },
  {
   "cell_type": "code",
   "execution_count": null,
   "metadata": {},
   "outputs": [
    {
     "data": {
      "text/plain": [
       "tuple"
      ]
     },
     "execution_count": 5,
     "metadata": {},
     "output_type": "execute_result"
    }
   ],
   "source": []
  },
  {
   "cell_type": "code",
   "execution_count": null,
   "metadata": {},
   "outputs": [],
   "source": []
  }
 ],
 "metadata": {
  "kernelspec": {
   "display_name": "base",
   "language": "python",
   "name": "python3"
  },
  "language_info": {
   "codemirror_mode": {
    "name": "ipython",
    "version": 3
   },
   "file_extension": ".py",
   "mimetype": "text/x-python",
   "name": "python",
   "nbconvert_exporter": "python",
   "pygments_lexer": "ipython3",
   "version": "3.12.7"
  },
  "orig_nbformat": 4
 },
 "nbformat": 4,
 "nbformat_minor": 2
}
